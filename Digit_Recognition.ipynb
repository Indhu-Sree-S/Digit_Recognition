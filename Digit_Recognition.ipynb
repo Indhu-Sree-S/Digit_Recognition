{
  "nbformat": 4,
  "nbformat_minor": 0,
  "metadata": {
    "colab": {
      "name": "Digit_Recognition.ipynb",
      "provenance": [],
      "collapsed_sections": []
    },
    "kernelspec": {
      "name": "python3",
      "display_name": "Python 3"
    },
    "language_info": {
      "name": "python"
    }
  },
  "cells": [
    {
      "cell_type": "markdown",
      "metadata": {
        "id": "FgrCruwLw6RF"
      },
      "source": [
        "Digit Recognition Using Machine Learning\n",
        "Here is a small example for recognizing digit. We call the model as Samkhya. There is no need to install any software. We use Colab Notebook With Google login, go to colab.research.google.com You can run the code below, block by block.\n",
        "\n",
        "images.png"
      ]
    },
    {
      "cell_type": "code",
      "metadata": {
        "id": "0LFZ_qQwxAv8"
      },
      "source": [
        "from tensorflow.keras import datasets,layers,models,Sequential\n",
        "from tensorflow.keras.utils import to_categorical\n",
        "from tensorflow.keras.layers import Dense, Conv2D, Flatten, MaxPooling2D\n",
        "import matplotlib.pyplot as plt"
      ],
      "execution_count": 1,
      "outputs": []
    },
    {
      "cell_type": "code",
      "metadata": {
        "id": "V5WsONb9xSXr",
        "colab": {
          "base_uri": "https://localhost:8080/"
        },
        "outputId": "1e02b1d7-87d1-4c6f-8e94-ad8557bbab03"
      },
      "source": [
        "(TrainIn, TrainOut), (TestIn, TestOut) = datasets.mnist.load_data()\n",
        "TrainIn = TrainIn.reshape(60000,28,28,1)\n",
        "TestIn = TestIn.reshape(10000,28,28,1)\n",
        "TrainOut = to_categorical(TrainOut)\n",
        "TestOut = to_categorical(TestOut)\n"
      ],
      "execution_count": 2,
      "outputs": [
        {
          "output_type": "stream",
          "name": "stdout",
          "text": [
            "Downloading data from https://storage.googleapis.com/tensorflow/tf-keras-datasets/mnist.npz\n",
            "11493376/11490434 [==============================] - 0s 0us/step\n",
            "11501568/11490434 [==============================] - 0s 0us/step\n"
          ]
        }
      ]
    },
    {
      "cell_type": "code",
      "metadata": {
        "id": "oZ5bwozwxefo"
      },
      "source": [
        "Samkhya = Sequential()\n",
        "#add Convolution  Layers\n",
        "Samkhya.add(Conv2D(64, kernel_size=3, activation='relu', input_shape=(28,28,1),name='c1'))\n",
        "Samkhya.add(MaxPooling2D(pool_size=(2, 2)))\n",
        "Samkhya.add(Conv2D(64, kernel_size=3, activation='relu', input_shape=(28,28,1),name='c2'))\n",
        "Samkhya.add(MaxPooling2D(pool_size=(2, 2)))\n",
        "\n",
        "\n",
        "# Add Flatten/Dense Layers\n",
        "Samkhya.add(Flatten(name='F1'))\n",
        "Samkhya.add(Dense(10, activation='softmax',name='D1'))\n",
        "\n",
        "Samkhya.compile(optimizer='sgd', loss='mse', metrics=['accuracy'])"
      ],
      "execution_count": 3,
      "outputs": []
    },
    {
      "cell_type": "code",
      "metadata": {
        "colab": {
          "base_uri": "https://localhost:8080/"
        },
        "id": "fWfBhG07xkXg",
        "outputId": "38401481-3a10-47de-cdd7-0bc6b60e3294"
      },
      "source": [
        "print(Samkhya.summary())"
      ],
      "execution_count": 4,
      "outputs": [
        {
          "output_type": "stream",
          "name": "stdout",
          "text": [
            "Model: \"sequential\"\n",
            "_________________________________________________________________\n",
            "Layer (type)                 Output Shape              Param #   \n",
            "=================================================================\n",
            "c1 (Conv2D)                  (None, 26, 26, 64)        640       \n",
            "_________________________________________________________________\n",
            "max_pooling2d (MaxPooling2D) (None, 13, 13, 64)        0         \n",
            "_________________________________________________________________\n",
            "c2 (Conv2D)                  (None, 11, 11, 64)        36928     \n",
            "_________________________________________________________________\n",
            "max_pooling2d_1 (MaxPooling2 (None, 5, 5, 64)          0         \n",
            "_________________________________________________________________\n",
            "F1 (Flatten)                 (None, 1600)              0         \n",
            "_________________________________________________________________\n",
            "D1 (Dense)                   (None, 10)                16010     \n",
            "=================================================================\n",
            "Total params: 53,578\n",
            "Trainable params: 53,578\n",
            "Non-trainable params: 0\n",
            "_________________________________________________________________\n",
            "None\n"
          ]
        }
      ]
    },
    {
      "cell_type": "code",
      "metadata": {
        "colab": {
          "base_uri": "https://localhost:8080/"
        },
        "id": "7lf_WCdfxpVU",
        "outputId": "7665d694-c845-45ba-9c36-e1ca2c0436e6"
      },
      "source": [
        "TrainingLog=Samkhya.fit(TrainIn, TrainOut,epochs=10, validation_split=0.1)"
      ],
      "execution_count": 5,
      "outputs": [
        {
          "output_type": "stream",
          "name": "stdout",
          "text": [
            "Epoch 1/10\n",
            "1688/1688 [==============================] - 70s 41ms/step - loss: 0.0682 - accuracy: 0.6354 - val_loss: 0.0291 - val_accuracy: 0.8388\n",
            "Epoch 2/10\n",
            "1688/1688 [==============================] - 69s 41ms/step - loss: 0.0271 - accuracy: 0.8460 - val_loss: 0.0251 - val_accuracy: 0.8542\n",
            "Epoch 3/10\n",
            "1688/1688 [==============================] - 69s 41ms/step - loss: 0.0234 - accuracy: 0.8618 - val_loss: 0.0228 - val_accuracy: 0.8628\n",
            "Epoch 4/10\n",
            "1688/1688 [==============================] - 69s 41ms/step - loss: 0.0213 - accuracy: 0.8671 - val_loss: 0.0210 - val_accuracy: 0.8643\n",
            "Epoch 5/10\n",
            "1688/1688 [==============================] - 69s 41ms/step - loss: 0.0196 - accuracy: 0.8711 - val_loss: 0.0199 - val_accuracy: 0.8663\n",
            "Epoch 6/10\n",
            "1688/1688 [==============================] - 69s 41ms/step - loss: 0.0184 - accuracy: 0.8739 - val_loss: 0.0193 - val_accuracy: 0.8677\n",
            "Epoch 7/10\n",
            "1688/1688 [==============================] - 69s 41ms/step - loss: 0.0175 - accuracy: 0.8770 - val_loss: 0.0183 - val_accuracy: 0.8697\n",
            "Epoch 8/10\n",
            "1688/1688 [==============================] - 69s 41ms/step - loss: 0.0169 - accuracy: 0.8789 - val_loss: 0.0178 - val_accuracy: 0.8707\n",
            "Epoch 9/10\n",
            "1688/1688 [==============================] - 69s 41ms/step - loss: 0.0165 - accuracy: 0.8805 - val_loss: 0.0176 - val_accuracy: 0.8715\n",
            "Epoch 10/10\n",
            "1688/1688 [==============================] - 69s 41ms/step - loss: 0.0161 - accuracy: 0.8821 - val_loss: 0.0172 - val_accuracy: 0.8718\n"
          ]
        }
      ]
    },
    {
      "cell_type": "markdown",
      "metadata": {
        "id": "oPkLMFOQx5Ee"
      },
      "source": [
        "# **Testing the Digit Recognition**"
      ]
    },
    {
      "cell_type": "code",
      "metadata": {
        "id": "E9HKid2tx31i"
      },
      "source": [
        "import  PIL, google.colab  \n",
        "from PIL import  ImageEnhance , ImageOps  \n",
        "from tensorflow.keras.preprocessing.image import img_to_array"
      ],
      "execution_count": 6,
      "outputs": []
    },
    {
      "cell_type": "code",
      "metadata": {
        "colab": {
          "base_uri": "https://localhost:8080/"
        },
        "id": "oc4AZxR3yANf",
        "outputId": "20b2de40-efae-4cba-eeb2-a3be666748e8"
      },
      "source": [
        "Samkhya.evaluate(TestIn, TestOut)"
      ],
      "execution_count": 7,
      "outputs": [
        {
          "output_type": "stream",
          "name": "stdout",
          "text": [
            "313/313 [==============================] - 4s 12ms/step - loss: 0.0163 - accuracy: 0.8789\n"
          ]
        },
        {
          "output_type": "execute_result",
          "data": {
            "text/plain": [
              "[0.0163416750729084, 0.8788999915122986]"
            ]
          },
          "metadata": {},
          "execution_count": 7
        }
      ]
    },
    {
      "cell_type": "code",
      "metadata": {
        "colab": {
          "base_uri": "https://localhost:8080/",
          "height": 282
        },
        "id": "BQYUaJ2ayETo",
        "outputId": "d385cce1-c60c-4129-d044-52d4838d1041"
      },
      "source": [
        "plt.imshow(TestIn[10].reshape(28, 28),cmap='gray')"
      ],
      "execution_count": 8,
      "outputs": [
        {
          "output_type": "execute_result",
          "data": {
            "text/plain": [
              "<matplotlib.image.AxesImage at 0x7f276ec29c90>"
            ]
          },
          "metadata": {},
          "execution_count": 8
        },
        {
          "output_type": "display_data",
          "data": {
            "image/png": "[encoded data removed]",
            "text/plain": [
              "<Figure size 432x288 with 1 Axes>"
            ]
          },
          "metadata": {
            "needs_background": "light"
          }
        }
      ]
    },
    {
      "cell_type": "code",
      "metadata": {
        "colab": {
          "base_uri": "https://localhost:8080/"
        },
        "id": "Se-tAMpWyIUs",
        "outputId": "ca7200a7-ad07-4839-ae1e-1e9cc46bd9da"
      },
      "source": [
        "pred = Samkhya.predict(TestIn[10].reshape(1, 28, 28, 1))\n",
        "print(\"The Samkhya predicted is\",pred.argmax())"
      ],
      "execution_count": 9,
      "outputs": [
        {
          "output_type": "stream",
          "name": "stdout",
          "text": [
            "The Samkhya predicted is 0\n"
          ]
        }
      ]
    },
    {
      "cell_type": "markdown",
      "metadata": {
        "id": "meOzk64SyT-T"
      },
      "source": [
        "Let us try uploading handwrtitten digits from laptop/system"
      ]
    },
    {
      "cell_type": "code",
      "metadata": {
        "colab": {
          "resources": {
            "http://localhost:8080/nbextensions/google.colab/files.js": {
              "data": "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",
              "ok": true,
              "headers": [
                [
                  "content-type",
                  "application/javascript"
                ]
              ],
              "status": 200,
              "status_text": ""
            }
          },
          "base_uri": "https://localhost:8080/",
          "height": 109
        },
        "id": "cfud4V9uyOfT",
        "outputId": "1a809953-0ea4-41ca-a8ce-defa8f6b59f4"
      },
      "source": [
        "# load the hand written image  from your Desktop/Laptop\n",
        "google.colab.files.upload()\n"
      ],
      "execution_count": 32,
      "outputs": [
        {
          "output_type": "display_data",
          "data": {
            "text/html": [
              "\n",
              "     <input type=\"file\" id=\"files-a5ef03c8-0e76-4947-849b-6c34eccc3bb2\" name=\"files[]\" multiple disabled\n",
              "        style=\"border:none\" />\n",
              "     <output id=\"result-a5ef03c8-0e76-4947-849b-6c34eccc3bb2\">\n",
              "      Upload widget is only available when the cell has been executed in the\n",
              "      current browser session. Please rerun this cell to enable.\n",
              "      </output>\n",
              "      <script src=\"/nbextensions/google.colab/files.js\"></script> "
            ],
            "text/plain": [
              "<IPython.core.display.HTML object>"
            ]
          },
          "metadata": {}
        },
        {
          "output_type": "stream",
          "name": "stdout",
          "text": [
            "Saving nine1.png to nine1.png\n"
          ]
        },
        {
          "output_type": "execute_result",
          "data": {
            "text/plain": [
              "{'nine1.png': b'\\x89PNG\\r\\n\\x1a\\n\\x00\\x00\\x00\\rIHDR\\x00\\x00\\x033\\x00\\x00\\x01\\xcc\\x08\\x02\\x00\\x00\\x00n\\x92a\\x04\\x00\\x00\\x00\\x01sRGB\\x00\\xae\\xce\\x1c\\xe9\\x00\\x00\\x00\\x04gAMA\\x00\\x00\\xb1\\x8f\\x0b\\xfca\\x05\\x00\\x00\\x00\\tpHYs\\x00\\x00\\x0e\\xc3\\x00\\x00\\x0e\\xc3\\x01\\xc7o\\xa8d\\x00\\x00\\nMIDATx^\\xed\\xd6\\xc1\\x8e\\xe38\\x02D\\xc1\\xfe\\xff\\x9f\\x9e\\x05\\xa6\\xdf\\x02\\x03\\xd8\\x94\\xa9\\xaa\\x92D\\xa9\"\\x8eV&M\\xde\\xf2\\x0f\\x00\\x00\\x00\\x00\\x00\\x00\\x00\\x00\\x00\\x00\\x00\\x00\\x00\\x00\\x00\\x00\\x00\\x00\\x00\\x00\\x00\\x00\\x00\\x00\\x00\\x00\\x00\\x00\\x00\\x00\\x00\\x00\\x00\\x00\\x00\\x00\\x00\\x00\\x00\\x00\\x00\\x00\\x00\\x00\\x00\\x00\\x00\\x00\\x00\\x00\\x00\\x00\\x00\\x00\\x00\\x00\\x00\\x00\\x00\\x00\\x00\\x00\\x00\\x00\\x00\\x00\\x00\\x00\\x00\\x00\\x00\\x00\\x00\\x00\\x00\\x00\\x00\\x00\\x00\\x00\\x00\\x00\\x00\\x00\\x00\\x00\\x00\\x00\\x00\\x00\\x00\\x00\\x00\\x00\\x00\\x00\\x00\\x00\\x00\\x00\\x00\\x00\\x00\\x00\\x00\\x00\\x00\\x00\\x00\\x00\\x00\\x00\\x00\\x00\\x00\\x00\\x00\\x00\\x00\\x00\\x00\\x00\\x00\\x00\\x00\\x00\\x00\\x00\\x00\\x00\\x00\\x00\\x00\\x00\\x00\\x00\\x00\\x00\\x00\\x00\\x00\\x00\\x00\\x00\\x00\\x00\\x00\\x00\\x00\\x00\\x00\\x00\\x00\\x00\\x00\\x00\\x00\\x00\\x00\\x00\\x00\\x00\\x00\\x00\\x00\\x00\\x00\\x00\\x00\\x00\\x00\\x00\\x00\\x00\\x00\\x00\\x00\\x00\\x00\\x00\\x00\\x00\\x00\\x00\\x00\\x00\\x00\\x00\\x00\\x00\\x00\\x00\\x00\\x00\\x00\\x00\\x00\\x00\\x00\\x00\\x00\\x00\\x00\\x00\\x00\\x00\\x00\\x00\\x00\\x00\\x00\\x00\\x00\\x00\\x00\\x00\\x00\\x00\\x00\\x00\\x00\\x00\\x00\\x00\\x00\\x00\\x00\\x00\\x00\\x00\\x00\\x00\\x00\\x00\\x00\\x00\\x00\\x00\\x00\\x00\\x00\\x00\\x00\\x00\\x00\\x00\\x00\\x00\\x00\\x00\\x00\\x00\\x00\\x00\\x00\\xf0D\\xff\\xfc\\xb4\\xce\\x05\\x00`\\x97\\xc6\\xd4\\x91\\xfa\\'\\x00\\x0064\\x9dN\\xd1_\\x02\\x00\\xf0_m\\xa5\\x8bt\\t\\x00\\x80_\\xaeqt\\xb5n\\x03\\x00\\xf0k5\\x8b\\xd6\\xd0\\x9d\\x00\\x00~\\x9b\\xd6\\xd0b\\xba\\x1c\\x00\\xc0/\\xd1\\x08ZU\\xb7\\x04\\x00\\xf8\\rZ@_\\xd2\\x11c\\xe5\\xbe\\xad\\xe3\\x00\\x00\\x1e\\xa9\\xc9\\xf3\\r\\x1d\\xb4G\\xcd/\\xe9\\x08\\x00\\x80\\xe7i\\xef|U\\xa7|IG\\xecW\\x1f\\x00\\xe0IZ:\\xfb\\xd5\\xff!\\x1d\\xbaGM\\x00\\x80gh\\xe3\\xecT\\xf9\\xa7u\\xfa\\x1e5\\x01\\x00\\xee\\xaeu\\xb3S\\xe5c\\xf4\\x1f\\xd3\\xaa\\x01\\x00\\xdcW\\xbbf\\xa7\\xca\\x07\\xeb\\xcf\\xa6U\\x03\\x00\\xb8\\xa9F\\xcd\\xb4jg\\xe9_\\xa7U\\x03\\x00\\xb8\\x9d\\xe6\\xcc\\x1e5\\xcf\\xd5\\x7fO\\xa8\\x00\\x00p#\\r\\x99i\\xd5\\xae\\xd3=&T\\x00\\x00\\xb8\\x8bV\\xcc\\xb4j\\x97\\xea*\\x9f\\x94\\x06\\x00\\xb8\\x85&\\xcc\\xb4j\\x0b\\xe8B\\x9b\\x8a\\x02\\x00,\\xae\\xf1\\xb2G\\xcdet\\xad\\xb1r\\x00\\x00+k\\xb9\\xecQs%\\xddlSQ\\x00\\x805\\xb5Y\\xa6U[RW\\x1c+\\x07\\x00\\xb0\\xa66\\xcb\\xb4j\\xab\\xea\\x96c\\xe5\\x00\\x00V\\xd3Z\\x99Vma]tSQ\\x00\\x80\\xa54U&T\\xb8\\x83n<V\\x0e\\x00`\\x1d\\xed\\x949u\\xee\\xa0\\x1bo*\\n\\x00\\xb0\\x82\\x16\\xca\\x9c:7\\xd1\\xa57\\x15\\x05\\x00XA\\x0b\\xe5\\x93\\xd2\\xb7\\xd2\\xd57\\x15\\x05\\x00XA\\x0beS\\xd1\\x1b\\xea\\x01c\\xe5\\x00\\x00.\\xd7<\\xd9T\\xf4\\x9ez\\xc3\\xa6\\xa2\\x00\\x00\\x17j\\x98|R\\xfa\\xb6z\\xc6X9\\x00\\x80\\x0b5L6\\x15\\xbd\\xb9\\x1e3P\\x08\\x00\\xe0B\\r\\x93MEo\\xae\\xc7\\x0c\\x14\\x02\\x00\\xb8P\\xc3d\\xac\\xdc\\xfd\\xf5\\x9e\\x81B\\x00\\x00\\x17j\\x98\\x0c\\x14z\\x84\\x9e4P\\x08\\x00\\xe0B\\r\\x93\\x81B\\x8f\\xd0\\x93\\x06\\n\\x01\\x00\\\\\\xa8a2P\\xe8\\x11z\\xd2@!\\x00\\x80\\x0b5L\\xde)\\xf1\\x14\\xbd\\xea\\x9d\\x12\\x00\\x00\\xd7j\\x9b\\xbc\\xe8\\xf3\\x83\\xf4\\xb0\\x81B\\x00\\x00\\x17j\\x98\\xbc\\xe8\\xf3\\x83\\xf4\\xb0\\x81B\\x00\\x00\\x17j\\x98\\xbc\\xe8\\xf3\\x83\\xf4\\xb0\\x81B\\x00\\x00\\x17j\\x98\\xbc\\xe8\\xf3\\x83\\xf4\\xb0\\x81B\\x00\\x00\\x17j\\x98\\xbc\\xe8\\xf3S\\xf4\\xaa\\xb1r\\x00\\x00\\x17j\\x98\\xbc\\xe8\\xf3S\\xf4\\xaa\\xb1r\\x00\\x00\\x17j\\x98\\xbc\\xe8\\xf3S\\xf4\\xaa\\xb1r\\x00\\x00\\x17j\\x98\\xbc\\xe8\\xf3S\\xf4\\xaa\\xb1r\\x00\\x00\\x17j\\x98\\xbc\\xe8\\xf3S\\xf4\\xaa\\xb1r\\x00\\x00\\x17j\\x98\\xbc\\xe8\\xf3#\\xf4\\xa4ME\\x01\\x00.\\xd40y\\xd1\\xe7G\\xe8I\\x9b\\x8a\\x02\\x00\\\\\\xa8a\\xf2\\xa2\\xcf\\x8f\\xd0\\x936\\x15\\x05\\x00\\xb8P\\xc3\\xe4E\\x9f\\x1f\\xa1\\'m*\\n\\x00p\\xa1\\x86\\xc9\\x8b>\\xdf_\\xef\\xf9\\xa44\\x00\\xc0\\x85\\x1a&/\\xfa|\\x7f\\xbd\\xe7\\x93\\xd2\\x00\\x00\\x17j\\x98\\xbc\\xe8\\xf3\\xcd\\xf5\\x98\\t\\x15\\x00\\x00.\\xd40y\\xd1\\xe7\\x9b\\xeb1\\x13*\\x00\\x00\\\\\\xa8a\\xf2N\\x89;\\xeb%\\x13*\\x00\\x00\\\\\\xa8a\\xf2N\\x89;\\xeb%\\x13*\\x00\\x00\\\\\\xa8a2P\\xe8\\xb6z\\xc6\\x84\\n\\x00\\x00\\x17j\\x98\\x0c\\x14\\xba\\xa7\\xde0\\xa7\\x0e\\x00\\xc0\\x85\\x1a&c\\xe5\\xee\\xa6\\xdbO\\xab\\x06\\x00p\\xa1\\x86\\xc9\\xa6\\xa2\\xb7\\xd2\\xd5\\xa7U\\x03\\x00\\xb8P\\xc3dS\\xd1[\\xe9\\xea\\xd3\\xaa\\x01\\x00\\\\\\xa8a\\xf2I\\xe9\\x9b\\xe8\\xd2{\\xd4\\x04\\x00\\xb8V\\xdb\\xe4\\x93\\xd2w\\xd0\\x8d\\xf7\\xa8\\t\\x00p\\xad\\xb6\\xc9\\'\\xa5\\x97\\xd7uw\\xaa\\x0c\\x00p\\xb9\\xe6\\xc9\\'\\xa5\\xd7\\xd6]w\\xaa\\x0c\\x00p\\xb9\\xe6\\xc9\\'\\xa5\\x17\\xd6E\\xf7\\xab\\x0f\\x00\\xb0\\x82\\x16\\xca\\'\\xa5\\x97\\xd4\\x15\\xbf\\xa4#\\x00\\x00\\x16\\xd1H\\xf9\\xa4\\xf4b\\xba\\xdcWu\\n\\x00\\xc0\"\\x1a)\\x13*,\\xa3k}C\\x07\\x01\\x00\\xac\\xa3\\x9d2\\xa1\\xc2\\x02\\xba\\xd0\\x84\\x8d\\xf0\\xdf\\xa3\\x00\\x00\\xd6\\xd2T\\x99P\\xe1:\\xddc\\xdaF\\xe5\\xef\\x81\\x00\\x00ki\\xaaL\\xabv\\xba\\xfe~\\xdav\\xeb\\xefW\\x00\\x80\\xe5\\xb4V\\xf6\\xa8y\\xbc\\xfeo\\xbf\\xed\\xfa\\xdf\\xaf\\x00\\x00\\xcbi\\xad\\xecW\\xff\\xa7u\\xfa7t\\x90e\\x06\\x00\\xdcQ\\x83\\xe5\\xe7t\\xeeN\\x95\\xbf\\xa7\\xb3\\xfe\\xd5O/\\xfa\\x0c\\x00\\xb0\\xa66\\xcb\\xcd\\xf5\\x98\\x7f\\xf5\\xd3;%\\x00\\x00\\x96\\xd5l\\xb9\\xad\\x9e\\xf1\\x7f\\xfd\\xfaN\\t\\x00\\x80\\x95\\xb5\\\\n\\xa8\\x07\\xfcG\\x1f\\xde)\\x01\\x00\\xb0\\xb8\\xc6\\xcb}t\\xef\\x17}~\\xa7\\x04\\x00\\xc0-4a\\x96\\xd7u\\xdf)\\xf1N\\t\\x00\\x80\\x1bi\\xc8\\xac\\xa7\\xfbm*\\xfaN\\t\\x00\\x80\\xdbi\\xce\\\\\\xad\\xdb\\xcc\\xa93P\\x08\\x00\\xe0IZ:\\x07\\xeb\\xcf\\xf6\\xa89P\\x08\\x00\\x80\\x134\\xc1\\xde)\\x01\\x00\\xc0\\t\\x9a`\\x03\\x85\\x00\\x008A\\x13l\\xa0\\x10\\x00\\x00\\'h\\x82\\r\\x14\\x02\\x00\\xe0\\x04M\\xb0\\x81B\\x00\\x00\\x9c\\xa0\\t6P\\x08\\x00\\x80\\x134\\xc1\\xde)\\x01\\x00\\xc09Za\\xef\\x94\\x00\\x00\\xe0\\x1c\\xad\\xb0wJ\\x00\\x00p\\x82&\\xd8;%\\x00\\x008G+\\xec\\x9d\\x12\\x00\\x00\\x9c\\xa3\\x15\\xf6N\\t\\x00\\x00\\xce\\xd1\\n{\\xa7\\x04\\x00\\x00\\xe7h\\x85\\xbdS\\x02\\x00\\x80\\x134\\xc1\\x06\\n\\x01\\x00p\\x82&\\xd8@!\\x00\\x00N\\xd0\\x04\\x1b(\\x04\\x00\\xc0\\xd1\\xda_\\x03\\x85\\x00\\x008A\\x13l\\xa0\\x10\\x00\\x00\\'h\\x82\\r\\x14\\x02\\x00\\xe0\\x04M\\xb0\\x81B\\x00\\x00\\x1c\\xad\\xfd5V\\x0e\\x00\\x80\\xa3\\xb5\\xbf\\x06\\n\\x01\\x00p\\x82&\\xd8@!\\x00\\x00N\\xd0\\x04\\x1b(\\x04\\x00\\xc0\\xd1\\xda_\\x03\\x85\\x00\\x008Z\\xfbk\\xac\\x1c\\x00\\x00Gk\\x7f\\x8d\\x95\\x03\\x00\\xe0h\\xed\\xaf\\xb1r\\x00\\x00\\x1c\\xad\\xfd5P\\x08\\x00\\x80\\x134\\xc1\\x06\\n\\x01\\x00p\\xb4\\xf6\\xd7X9\\x00\\x00\\x0e\\xd5\\xf8\\xdaT\\x14\\x00\\x80\\xe3\\xb4\\xbc6\\x15\\x05\\x00\\xe0P\\x8d\\xaf\\xb1r\\x00\\x00\\x1c\\xad\\xfd5V\\x0e\\x00\\x80\\xa3\\xb5\\xbf\\xc6\\xca\\x01\\x00p\\x9c\\x96\\xd7\\'\\xa5\\x01\\x008N\\xcb\\xeb\\x93\\xd2\\x00\\x00\\x1c\\xa4\\xd9\\xf5Ii\\x00\\x00\\x0e\\xd2\\xec\\xfa\\xa44\\x00\\x00\\x07iv}R\\x1a\\x00\\x80\\xe3\\xb4\\xbc>)\\r\\x00\\xc0qZ^\\x9f\\x94\\x06\\x00\\xe0 \\xcd\\xae\\t\\x15\\x00\\x008B\\x9b\\xeb\\x93\\xd2\\x00\\x00\\x1c\\xa4\\xd95\\xa1\\x02\\x00\\x00\\x07iv}R\\x1a\\x00\\x80\\x834\\xbb>)\\r\\x00\\xc0A\\x9a]\\x9f\\x94\\x06\\x00\\xe0 \\xcd\\xae\\t\\x15\\x00\\x008B\\x9bkN\\x1d\\x00\\x80\\x1f\\xd4\\xd0x\\xa7\\xc4\\xaf\\xd1\\xb3\\'T\\x00\\x00\\xf8Ym\\x8dwJ\\xfc\\x0e\\xbdyB\\x05\\x00\\x80\\x1f\\xd7\\xdc\\x18(\\xf4h=uN\\x1d\\x00\\x80#\\xb48\\xc6\\xca=W\\xef\\x9cS\\x07\\x00\\xe0\\x08-\\x8e\\xb1r\\x0f\\xd5#\\xe7\\xd4\\x01\\x008H\\xa3\\xe3\\x93\\xd2\\xcf\\xd2\\xdb\\xe6\\xd4\\x01\\x008N\\xbb\\xe3\\x93\\xd2\\x0f\\xd2\\xc3\\xe6\\xd4\\x01\\x008T\\xd3cB\\x85\\xa7\\xe8U\\x13*\\x00\\x00\\x9c\\xa0\\x012\\xa1\\xc2\\xfd\\xf5\\x9e9u\\x00\\x00N\\xd0\\x00\\x99P\\xe1\\xe6z\\xcc\\x9c:\\x00\\x00\\xa7i\\x86L\\xa8p[=cB\\x05\\x00\\x80\\xf3\\xb5G&T\\xb8\\xa1\\x1e0\\xa7\\x0e\\x00\\xc0\\xf9\\xda#\\x13*\\xdcM\\xb7\\x9fS\\x07\\x00\\xe0B\\r\\x93\\t\\x15\\xee\\xa0\\x1bO\\xab\\x06\\x00p\\xad\\xb6\\xc9\\x9c:k\\xeb\\xae\\xd3\\xaa\\x01\\x00\\xac\\xa0\\x852\\xa7\\xce\\xaa\\xba\\xe5\\x1e5\\x01\\x00\\x16\\xd1H\\x99Sg=\\xddo\\x8f\\x9a\\x00\\x00\\xebh\\xa7L\\xab\\xb6\\x86\\xee\\xb4_}\\x00\\x80\\xd5\\xb4V\\xa6U\\xbbTW\\xf9\\x92\\x8e\\x00\\x00XS\\x9be\\x8f\\x9a\\xa7\\xeb\\xef\\xbf\\xaaS\\x00\\x00\\x96\\xd5l\\xd9\\xa9\\xf2Y\\xfa\\xd7o\\xe8 \\x00\\x80\\xf5\\xb5_\\xa6U;^\\xff\\xf7\\r\\x1d\\x04\\x00p#\\r\\x99=j\\x1e\\xa6\\xbf\\xf9\\x86\\x0e\\x02\\x00\\xb8\\x9d\\xe6\\xccN\\x95\\x7fH\\x87\\xfe\\x84N\\x04\\x00\\xb8\\xa9F\\xcdN\\x95\\xbf\\xa7\\xb3~H\\x87\\x02\\x00\\xdcZ\\xd3f\\xbf\\xfa{\\xd4\\xfc9\\x9d\\x0b\\x00\\xf0\\x18\\xcd\\x9c[\\xe9\\xea\\x00\\x00\\x8f\\xd4\\xe4Y^\\xd7\\x05\\x00x\\xb6\\xb6\\xcf\\xaa\\xba%\\x00\\xc0o\\xd0\\x02ZO\\xf7\\x03\\x00\\xf8mZC\\xcb\\xe8Z\\x00\\x00\\xbfV\\xb3\\xe8\"]\\x02\\x00\\x80\\xbfZI\\xe7\\xea\\xbf\\x01\\x00x\\xd5b:R\\xff\\x04\\x00\\x00\\x00\\x00\\x00\\x00\\x00\\x00\\x00\\x00\\x00\\x00\\x00\\x00\\x00\\x00\\x00\\x00\\x00\\x00\\x00\\x00\\x00\\x00\\x00\\x00\\x00\\x00\\x00\\x00\\x00\\x00\\x00\\x00\\x00\\x00\\x00\\x00\\x00\\x00\\x00\\x00\\x00\\x00\\x00\\x00\\x00\\x00\\x00\\x00\\x00\\x00\\x00\\x00\\x00\\x00\\x00\\x00\\x00\\x00\\x00\\x00\\x00\\x00\\x00\\x00\\x00\\x00\\x00\\x00\\x00\\x00\\x00\\x00\\x00\\x00\\x00\\x00\\x00\\x00\\x00\\x00\\x00\\x00\\x00\\x00\\x00\\x00\\x00\\x00\\x00\\x00\\x00\\x00\\x00\\x00\\x00\\x00\\x00\\x00\\x00\\x00\\x00\\x00\\x00\\x00\\x00\\x00\\x00\\x00\\x00\\x00\\x00\\x00\\x00\\x00\\x00\\x00\\x00\\x00\\x00\\x00\\x00\\x00\\x00\\x00\\x00\\x00\\x00\\x00\\x00\\x00\\x00\\x00\\x00\\x00\\x00\\x00\\x00\\x00\\x00\\x00\\x00\\x00\\x00\\x00\\x00\\x00\\x00\\x00\\x00\\x00\\x00\\x00\\x00\\x00\\x00\\x00\\x00\\x00\\x00\\x00\\x00\\x00\\x00\\x00\\x00\\x00\\x00\\x00\\x00\\x00\\x00\\x00\\x00\\x00\\x00\\x00\\x00\\x00\\x00\\x00\\x00\\x00\\x00\\x00\\x00\\x00\\x00\\x00\\x00\\x00\\x00\\x00\\x00\\x00\\x00\\x00\\x00\\x00\\x00\\x00\\x00\\x00\\x00\\x00\\x00\\x00\\x00\\x00\\x00\\x00\\x00\\x00\\x00\\x00\\x00\\x00\\x00\\x00\\x00\\x00\\x00\\x00\\x00\\x00\\x00\\x00\\x00\\x00\\x00\\x00\\x00\\x00\\x00\\x00\\x00\\x00\\x00\\x00\\x00\\x00\\x00\\x00\\x00\\x00\\x00\\x00\\x00\\x00\\x00\\x00\\x00\\x00\\x00\\x00\\x00\\x00\\x00\\x00\\x00\\x00\\x00\\x00\\x00\\x00\\x00\\x00\\x00\\x00\\x00\\x00\\x00\\x00\\x00\\x00\\x00\\x00\\x00\\x00\\x00\\x00\\x00\\x00\\x00\\x00\\x00\\x00\\x00\\x00\\x00\\x00\\x00\\x00\\x00\\x00\\x00\\x00\\x00\\x00\\x00\\x00\\x00\\x00\\x00\\x00\\x00\\x00\\x00\\x00\\x00\\x00\\x00\\x00\\x00\\x00\\x00\\x00\\x00\\x00\\x00\\x00\\x00\\x00\\x00\\x00\\x00\\x00\\x00\\x00\\x00\\x00\\x00\\x00\\x00\\x00\\x00\\x00\\x00\\x00\\x00\\x00\\x00\\x00\\x00\\x00\\x00\\x00\\x00\\x00\\x00\\x00\\x00\\x00\\x00\\x00\\x00\\x00\\x00\\x00\\x00\\x00\\x00\\x00\\x00\\x00\\x00\\x00\\x00\\x00\\x00\\x00\\x00\\x00\\x00\\x00\\x00\\x00\\x00\\x00\\x00\\x00\\x00\\x00\\x00\\x00\\x00\\x00\\x00\\x00\\x00\\x00\\x00\\x00\\x00\\x00\\x00\\x00\\x00\\x00\\x00\\x00\\x00\\x00\\x00\\x00\\x00\\x00\\x00\\x00\\x00\\x00\\x00\\x00\\x00\\x00\\x00\\x00\\x00\\x00\\x00\\x00\\x00\\x00\\x00\\x00\\x00\\x00\\x00\\x00\\x00\\x00\\x00\\x00\\x0c\\xfc\\xf9\\xf3?\\x13d\\xfe\\xdcaw~M\\x00\\x00\\x00\\x00IEND\\xaeB`\\x82'}"
            ]
          },
          "metadata": {},
          "execution_count": 32
        }
      ]
    },
    {
      "cell_type": "code",
      "metadata": {
        "colab": {
          "base_uri": "https://localhost:8080/",
          "height": 257
        },
        "id": "YRmMyoKayhSo",
        "outputId": "a9070ae0-654a-44f9-8291-2677924708f8"
      },
      "source": [
        "aksharam = PIL.Image.open('nine1.png')\n",
        "plt.imshow(aksharam)"
      ],
      "execution_count": 34,
      "outputs": [
        {
          "output_type": "execute_result",
          "data": {
            "text/plain": [
              "<matplotlib.image.AxesImage at 0x7f277175fd10>"
            ]
          },
          "metadata": {},
          "execution_count": 34
        },
        {
          "output_type": "display_data",
          "data": {
            "image/png": "[encoded data removed]",
            "text/plain": [
              "<Figure size 432x288 with 1 Axes>"
            ]
          },
          "metadata": {
            "needs_background": "light"
          }
        }
      ]
    },
    {
      "cell_type": "code",
      "metadata": {
        "colab": {
          "base_uri": "https://localhost:8080/",
          "height": 282
        },
        "id": "QdH2r8RXyk4x",
        "outputId": "d186077f-e8db-44ae-dce7-50244e012766"
      },
      "source": [
        "aksharam1 = ImageOps.grayscale(aksharam)  \n",
        "plt.imshow(aksharam1,cmap='gray')\n",
        "newsize = (28, 28) \n",
        "aksharam2=aksharam1.resize(newsize)\n",
        "plt.imshow(aksharam2,cmap='gray')\n",
        "aksharam2.size"
      ],
      "execution_count": 35,
      "outputs": [
        {
          "output_type": "execute_result",
          "data": {
            "text/plain": [
              "(28, 28)"
            ]
          },
          "metadata": {},
          "execution_count": 35
        },
        {
          "output_type": "display_data",
          "data": {
            "image/png": "[encoded data removed]",
            "text/plain": [
              "<Figure size 432x288 with 1 Axes>"
            ]
          },
          "metadata": {
            "needs_background": "light"
          }
        }
      ]
    },
    {
      "cell_type": "code",
      "metadata": {
        "colab": {
          "base_uri": "https://localhost:8080/"
        },
        "id": "ypxI_0Y4yoCI",
        "outputId": "3e7f68e9-702b-49ae-b43f-418e55c7a086"
      },
      "source": [
        "aksharam3= img_to_array(aksharam2)\n",
        "aksharam3= aksharam3.reshape(1, 28, 28, 1)\n",
        "predictions = Samkhya.predict(aksharam3)\n",
        "print(\"The Samkhya predicted is\",predictions.argmax())"
      ],
      "execution_count": 36,
      "outputs": [
        {
          "output_type": "stream",
          "name": "stdout",
          "text": [
            "The Samkhya predicted is 9\n"
          ]
        }
      ]
    }
  ]
}